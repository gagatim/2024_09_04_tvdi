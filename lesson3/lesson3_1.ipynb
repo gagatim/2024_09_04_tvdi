{
 "cells": [
  {
   "cell_type": "code",
   "execution_count": 31,
   "metadata": {},
   "outputs": [
    {
     "name": "stdout",
     "output_type": "stream",
     "text": [
      "abc\n",
      "===================\n",
      "徐國堂\n"
     ]
    }
   ],
   "source": [
    "class Person(object):\n",
    "    def __init__(self,name:str,age:int):#type hint\n",
    "        self.name=name #attribute\n",
    "        self.age=age #attribute\n",
    "    def __repr__(self)->str:\n",
    "        return f'我的名字是:{self.name}\\n我的age是{self.age}'\n",
    "    \n",
    "@property\n",
    "def name(self)->str:\n",
    "    return self.__name\n",
    "\n",
    "@name.setter\n",
    "def name(self,n):\n",
    "    print(f\"不可以改名為{n}\")\n",
    "\n",
    "p1=Person(name=\"robert\",age=18)\n",
    "p1.name=\"abc\"\n",
    "print(p1.name)\n",
    "\n",
    "print(\"===================\")\n",
    "p2=Person(name=\"徐國堂\",age=38)\n",
    "print(p2.name)\n",
    "\n",
    "\n"
   ]
  },
  {
   "cell_type": "code",
   "execution_count": null,
   "metadata": {},
   "outputs": [],
   "source": []
  },
  {
   "cell_type": "code",
   "execution_count": null,
   "metadata": {},
   "outputs": [],
   "source": []
  },
  {
   "cell_type": "code",
   "execution_count": null,
   "metadata": {},
   "outputs": [],
   "source": []
  },
  {
   "cell_type": "code",
   "execution_count": null,
   "metadata": {},
   "outputs": [],
   "source": []
  },
  {
   "cell_type": "markdown",
   "metadata": {},
   "source": []
  },
  {
   "cell_type": "code",
   "execution_count": null,
   "metadata": {},
   "outputs": [],
   "source": []
  },
  {
   "cell_type": "code",
   "execution_count": null,
   "metadata": {},
   "outputs": [],
   "source": [
    "\n"
   ]
  },
  {
   "cell_type": "code",
   "execution_count": null,
   "metadata": {},
   "outputs": [],
   "source": [
    "\n"
   ]
  }
 ],
 "metadata": {
  "kernelspec": {
   "display_name": "Python 3",
   "language": "python",
   "name": "python3"
  },
  "language_info": {
   "codemirror_mode": {
    "name": "ipython",
    "version": 3
   },
   "file_extension": ".py",
   "mimetype": "text/x-python",
   "name": "python",
   "nbconvert_exporter": "python",
   "pygments_lexer": "ipython3",
   "version": "3.12.6"
  }
 },
 "nbformat": 4,
 "nbformat_minor": 2
}
